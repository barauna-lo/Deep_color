{
  "cells": [
    {
      "cell_type": "markdown",
      "metadata": {},
      "source": [
        "\n",
        "\n",
        "# Multi-objective Optimization with Optuna\n",
        "\n",
        "This tutorial showcases Optuna's multi-objective optimization feature by\n",
        "optimizing the validation accuracy of Fashion MNIST dataset and the FLOPS of the model implemented in PyTorch.\n",
        "\n",
        "We use [fvcore](https://github.com/facebookresearch/fvcore) to measure FLOPS.\n"
      ]
    },
    {
      "cell_type": "code",
      "execution_count": 5,
      "metadata": {
        "collapsed": false
      },
      "outputs": [],
      "source": [
        "import torch\n",
        "import torch.nn as nn\n",
        "import torch.nn.functional as F\n",
        "import torchvision\n",
        "from fvcore.nn import FlopCountAnalysis\n",
        "\n",
        "import optuna\n",
        "\n",
        "\n",
        "DEVICE = torch.device(\"cuda\") if torch.cuda.is_available() else torch.device(\"cpu\")\n",
        "DIR = \"..\"\n",
        "BATCHSIZE = 128\n",
        "N_TRAIN_EXAMPLES = BATCHSIZE * 30\n",
        "N_VALID_EXAMPLES = BATCHSIZE * 10\n",
        "\n",
        "\n",
        "def define_model(trial):\n",
        "    n_layers = trial.suggest_int(\"n_layers\", 1, 3)\n",
        "    layers = []\n",
        "\n",
        "    in_features = 28 * 28\n",
        "    for i in range(n_layers):\n",
        "        out_features = trial.suggest_int(\"n_units_l{}\".format(i), 4, 128)\n",
        "        layers.append(nn.Linear(in_features, out_features))\n",
        "        layers.append(nn.ReLU())\n",
        "        p = trial.suggest_float(\"dropout_{}\".format(i), 0.2, 0.5)\n",
        "        layers.append(nn.Dropout(p))\n",
        "\n",
        "        in_features = out_features\n",
        "\n",
        "    layers.append(nn.Linear(in_features, 10))\n",
        "    layers.append(nn.LogSoftmax(dim=1))\n",
        "\n",
        "    return nn.Sequential(*layers)\n",
        "\n",
        "\n",
        "# Defines training and evaluation.\n",
        "def train_model(model, optimizer, train_loader):\n",
        "    model.train()\n",
        "    for batch_idx, (data, target) in enumerate(train_loader):\n",
        "        data, target = data.view(-1, 28 * 28).to(DEVICE), target.to(DEVICE)\n",
        "        optimizer.zero_grad()\n",
        "        F.nll_loss(model(data), target).backward()\n",
        "        optimizer.step()\n",
        "\n",
        "\n",
        "def eval_model(model, valid_loader):\n",
        "    model.eval()\n",
        "    correct = 0\n",
        "    with torch.no_grad():\n",
        "        for batch_idx, (data, target) in enumerate(valid_loader):\n",
        "            data, target = data.view(-1, 28 * 28).to(DEVICE), target.to(DEVICE)\n",
        "            pred = model(data).argmax(dim=1, keepdim=True)\n",
        "            correct += pred.eq(target.view_as(pred)).sum().item()\n",
        "\n",
        "    accuracy = correct / N_VALID_EXAMPLES\n",
        "\n",
        "    flops = FlopCountAnalysis(model, inputs=(torch.randn(1, 28 * 28).to(DEVICE),)).total()\n",
        "    return flops, accuracy"
      ]
    },
    {
      "cell_type": "markdown",
      "metadata": {},
      "source": [
        "Define multi-objective objective function.\n",
        "Objectives are FLOPS and accuracy.\n",
        "\n"
      ]
    },
    {
      "cell_type": "code",
      "execution_count": 6,
      "metadata": {
        "collapsed": false
      },
      "outputs": [],
      "source": [
        "def objective(trial):\n",
        "    train_dataset = torchvision.datasets.FashionMNIST(\n",
        "        DIR, train=True, download=True, transform=torchvision.transforms.ToTensor()\n",
        "    )\n",
        "    train_loader = torch.utils.data.DataLoader(\n",
        "        torch.utils.data.Subset(train_dataset, list(range(N_TRAIN_EXAMPLES))),\n",
        "        batch_size=BATCHSIZE,\n",
        "        shuffle=True,\n",
        "    )\n",
        "\n",
        "    val_dataset = torchvision.datasets.FashionMNIST(\n",
        "        DIR, train=False, transform=torchvision.transforms.ToTensor()\n",
        "    )\n",
        "    val_loader = torch.utils.data.DataLoader(\n",
        "        torch.utils.data.Subset(val_dataset, list(range(N_VALID_EXAMPLES))),\n",
        "        batch_size=BATCHSIZE,\n",
        "        shuffle=True,\n",
        "    )\n",
        "    model = define_model(trial).to(DEVICE)\n",
        "\n",
        "    optimizer = torch.optim.Adam(\n",
        "        model.parameters(), trial.suggest_float(\"lr\", 1e-5, 1e-1, log=True)\n",
        "    )\n",
        "\n",
        "    for epoch in range(10):\n",
        "        train_model(model, optimizer, train_loader)\n",
        "    flops, accuracy = eval_model(model, val_loader)\n",
        "    return flops, accuracy"
      ]
    },
    {
      "cell_type": "markdown",
      "metadata": {},
      "source": [
        "## Run multi-objective optimization\n",
        "\n",
        "If your optimization problem is multi-objective,\n",
        "Optuna assumes that you will specify the optimization direction for each objective.\n",
        "Specifically, in this example, we want to minimize the FLOPS (we want a faster model)\n",
        "and maximize the accuracy. So we set ``directions`` to ``[\"minimize\", \"maximize\"]``.\n",
        "\n"
      ]
    },
    {
      "cell_type": "code",
      "execution_count": 12,
      "metadata": {},
      "outputs": [
        {
          "data": {
            "text/plain": [
              "optuna.study.study.Study"
            ]
          },
          "execution_count": 12,
          "metadata": {},
          "output_type": "execute_result"
        }
      ],
      "source": [
        "type(study)"
      ]
    },
    {
      "cell_type": "code",
      "execution_count": 7,
      "metadata": {
        "collapsed": false
      },
      "outputs": [
        {
          "name": "stderr",
          "output_type": "stream",
          "text": [
            "[I 2023-08-04 20:24:49,469] A new study created in memory with name: no-name-c2952ad6-422d-4571-9401-9d7769e8adf0\n"
          ]
        },
        {
          "name": "stdout",
          "output_type": "stream",
          "text": [
            "Downloading http://fashion-mnist.s3-website.eu-central-1.amazonaws.com/train-images-idx3-ubyte.gz\n",
            "Downloading http://fashion-mnist.s3-website.eu-central-1.amazonaws.com/train-images-idx3-ubyte.gz to ../FashionMNIST/raw/train-images-idx3-ubyte.gz\n"
          ]
        },
        {
          "name": "stderr",
          "output_type": "stream",
          "text": [
            "26422272it [00:05, 4638609.27it/s]                               \n"
          ]
        },
        {
          "name": "stdout",
          "output_type": "stream",
          "text": [
            "Extracting ../FashionMNIST/raw/train-images-idx3-ubyte.gz to ../FashionMNIST/raw\n",
            "\n",
            "Downloading http://fashion-mnist.s3-website.eu-central-1.amazonaws.com/train-labels-idx1-ubyte.gz\n"
          ]
        },
        {
          "name": "stderr",
          "output_type": "stream",
          "text": [
            "29696it [00:00, 10736492.68it/s]         "
          ]
        },
        {
          "name": "stdout",
          "output_type": "stream",
          "text": [
            "Downloading http://fashion-mnist.s3-website.eu-central-1.amazonaws.com/train-labels-idx1-ubyte.gz to ../FashionMNIST/raw/train-labels-idx1-ubyte.gz\n",
            "Extracting ../FashionMNIST/raw/train-labels-idx1-ubyte.gz to ../FashionMNIST/raw\n",
            "\n",
            "Downloading http://fashion-mnist.s3-website.eu-central-1.amazonaws.com/t10k-images-idx3-ubyte.gz\n"
          ]
        },
        {
          "name": "stderr",
          "output_type": "stream",
          "text": [
            "\n"
          ]
        },
        {
          "name": "stdout",
          "output_type": "stream",
          "text": [
            "Downloading http://fashion-mnist.s3-website.eu-central-1.amazonaws.com/t10k-images-idx3-ubyte.gz to ../FashionMNIST/raw/t10k-images-idx3-ubyte.gz\n"
          ]
        },
        {
          "name": "stderr",
          "output_type": "stream",
          "text": [
            "4422656it [00:02, 1612408.96it/s]                             \n"
          ]
        },
        {
          "name": "stdout",
          "output_type": "stream",
          "text": [
            "Extracting ../FashionMNIST/raw/t10k-images-idx3-ubyte.gz to ../FashionMNIST/raw\n",
            "\n",
            "Downloading http://fashion-mnist.s3-website.eu-central-1.amazonaws.com/t10k-labels-idx1-ubyte.gz\n"
          ]
        },
        {
          "name": "stderr",
          "output_type": "stream",
          "text": [
            "6144it [00:00, 3800856.01it/s]          "
          ]
        },
        {
          "name": "stdout",
          "output_type": "stream",
          "text": [
            "Downloading http://fashion-mnist.s3-website.eu-central-1.amazonaws.com/t10k-labels-idx1-ubyte.gz to ../FashionMNIST/raw/t10k-labels-idx1-ubyte.gz\n",
            "Extracting ../FashionMNIST/raw/t10k-labels-idx1-ubyte.gz to ../FashionMNIST/raw\n",
            "\n",
            "Processing...\n"
          ]
        },
        {
          "name": "stderr",
          "output_type": "stream",
          "text": [
            "\n",
            "/home/barauna/anaconda3/lib/python3.8/site-packages/torchvision/datasets/mnist.py:502: UserWarning: The given NumPy array is not writable, and PyTorch does not support non-writable tensors. This means writing to this tensor will result in undefined behavior. You may want to copy the array to protect its data or make it writable before converting it to a tensor. This type of warning will be suppressed for the rest of this program. (Triggered internally at ../torch/csrc/utils/tensor_numpy.cpp:199.)\n",
            "  return torch.from_numpy(parsed.astype(m[2], copy=False)).view(*s)\n"
          ]
        },
        {
          "name": "stdout",
          "output_type": "stream",
          "text": [
            "Done!\n"
          ]
        },
        {
          "name": "stderr",
          "output_type": "stream",
          "text": [
            "Unsupported operator aten::log_softmax encountered 1 time(s)\n",
            "[I 2023-08-04 20:25:17,194] Trial 0 finished with values: [25044.0, 0.1015625] and parameters: {'n_layers': 3, 'n_units_l0': 30, 'dropout_0': 0.4446240697308833, 'n_units_l1': 38, 'dropout_1': 0.3801673204753159, 'n_units_l2': 8, 'dropout_2': 0.31923257989851883, 'lr': 1.029360567752296e-05}. \n",
            "Unsupported operator aten::log_softmax encountered 1 time(s)\n",
            "[I 2023-08-04 20:25:21,947] Trial 1 finished with values: [19850.0, 0.74921875] and parameters: {'n_layers': 1, 'n_units_l0': 25, 'dropout_0': 0.3390433797958868, 'lr': 0.0013064072565525235}. \n",
            "Unsupported operator aten::log_softmax encountered 1 time(s)\n",
            "[I 2023-08-04 20:25:27,375] Trial 2 finished with values: [4764.0, 0.65625] and parameters: {'n_layers': 1, 'n_units_l0': 6, 'dropout_0': 0.3579482208276602, 'lr': 0.015082031362216084}. \n",
            "Unsupported operator aten::log_softmax encountered 1 time(s)\n",
            "[I 2023-08-04 20:25:33,289] Trial 3 finished with values: [20360.0, 0.22734375] and parameters: {'n_layers': 3, 'n_units_l0': 22, 'dropout_0': 0.34522729158548704, 'n_units_l1': 58, 'dropout_1': 0.4958050385356089, 'n_units_l2': 27, 'dropout_2': 0.4056278272968485, 'lr': 0.05000327600430981}. \n",
            "Unsupported operator aten::log_softmax encountered 1 time(s)\n",
            "[I 2023-08-04 20:25:37,781] Trial 4 finished with values: [60344.0, 0.79609375] and parameters: {'n_layers': 1, 'n_units_l0': 76, 'dropout_0': 0.3356907580462575, 'lr': 0.0007624295921153646}. \n",
            "Unsupported operator aten::log_softmax encountered 1 time(s)\n",
            "[I 2023-08-04 20:25:44,470] Trial 5 finished with values: [4482.0, 0.09296875] and parameters: {'n_layers': 3, 'n_units_l0': 5, 'dropout_0': 0.4963423828543316, 'n_units_l1': 8, 'dropout_1': 0.49521121629073983, 'n_units_l2': 29, 'dropout_2': 0.4879798950896789, 'lr': 0.04309321978599388}. \n",
            "Unsupported operator aten::log_softmax encountered 1 time(s)\n",
            "[I 2023-08-04 20:25:49,311] Trial 6 finished with values: [24614.0, 0.65234375] and parameters: {'n_layers': 1, 'n_units_l0': 31, 'dropout_0': 0.21928244711904699, 'lr': 0.00015130934920171518}. \n",
            "Unsupported operator aten::log_softmax encountered 1 time(s)\n",
            "[I 2023-08-04 20:25:53,557] Trial 7 finished with values: [90516.0, 0.21015625] and parameters: {'n_layers': 1, 'n_units_l0': 114, 'dropout_0': 0.446924828200022, 'lr': 0.09193101572810389}. \n",
            "Unsupported operator aten::log_softmax encountered 1 time(s)\n",
            "[I 2023-08-04 20:25:58,211] Trial 8 finished with values: [12348.0, 0.58203125] and parameters: {'n_layers': 3, 'n_units_l0': 7, 'dropout_0': 0.33261075957948183, 'n_units_l1': 89, 'dropout_1': 0.32853066423807376, 'n_units_l2': 63, 'dropout_2': 0.4859893753241485, 'lr': 0.005098243270748442}. \n",
            "Unsupported operator aten::log_softmax encountered 1 time(s)\n",
            "[I 2023-08-04 20:26:06,046] Trial 9 finished with values: [51610.0, 0.56171875] and parameters: {'n_layers': 1, 'n_units_l0': 65, 'dropout_0': 0.2684776654649853, 'lr': 3.095424754172909e-05}. \n",
            "Unsupported operator aten::log_softmax encountered 1 time(s)\n",
            "[I 2023-08-04 20:26:12,370] Trial 10 finished with values: [85646.0, 0.76796875] and parameters: {'n_layers': 3, 'n_units_l0': 87, 'dropout_0': 0.21184172487270883, 'n_units_l1': 82, 'dropout_1': 0.22307654564254553, 'n_units_l2': 112, 'dropout_2': 0.2564214005497228, 'lr': 0.019300899368018577}. \n",
            "Unsupported operator aten::log_softmax encountered 1 time(s)\n",
            "[I 2023-08-04 20:26:19,332] Trial 11 finished with values: [68284.0, 0.8171875] and parameters: {'n_layers': 1, 'n_units_l0': 86, 'dropout_0': 0.21897826920358007, 'lr': 0.008851733669303826}. \n",
            "Unsupported operator aten::log_softmax encountered 1 time(s)\n",
            "[I 2023-08-04 20:26:28,360] Trial 12 finished with values: [99492.0, 0.49609375] and parameters: {'n_layers': 3, 'n_units_l0': 123, 'dropout_0': 0.48577364221364155, 'n_units_l1': 20, 'dropout_1': 0.3532808599249112, 'n_units_l2': 20, 'dropout_2': 0.3992990070479931, 'lr': 0.00021048545738580103}. \n",
            "Unsupported operator aten::log_softmax encountered 1 time(s)\n",
            "[I 2023-08-04 20:26:35,395] Trial 13 finished with values: [64314.0, 0.37109375] and parameters: {'n_layers': 1, 'n_units_l0': 81, 'dropout_0': 0.3070828281029139, 'lr': 0.09569013865817887}. \n",
            "Unsupported operator aten::log_softmax encountered 1 time(s)\n",
            "[I 2023-08-04 20:26:40,831] Trial 14 finished with values: [69078.0, 0.8046875] and parameters: {'n_layers': 1, 'n_units_l0': 87, 'dropout_0': 0.34685049299668536, 'lr': 0.0006533974300030856}. \n",
            "Unsupported operator aten::log_softmax encountered 1 time(s)\n",
            "[I 2023-08-04 20:26:46,857] Trial 15 finished with values: [92898.0, 0.81015625] and parameters: {'n_layers': 1, 'n_units_l0': 117, 'dropout_0': 0.43210066273012815, 'lr': 0.0008509395995957341}. \n",
            "Unsupported operator aten::log_softmax encountered 1 time(s)\n",
            "[I 2023-08-04 20:26:54,379] Trial 16 finished with values: [99250.0, 0.77890625] and parameters: {'n_layers': 1, 'n_units_l0': 125, 'dropout_0': 0.4438973348152544, 'lr': 0.031273944317975595}. \n",
            "Unsupported operator aten::log_softmax encountered 1 time(s)\n",
            "[I 2023-08-04 20:26:59,110] Trial 17 finished with values: [82576.0, 0.6734375] and parameters: {'n_layers': 1, 'n_units_l0': 104, 'dropout_0': 0.29330618532188346, 'lr': 7.469286071682774e-05}. \n",
            "Unsupported operator aten::log_softmax encountered 1 time(s)\n",
            "[I 2023-08-04 20:27:03,842] Trial 18 finished with values: [50400.0, 0.8015625] and parameters: {'n_layers': 2, 'n_units_l0': 55, 'dropout_0': 0.3867302331203543, 'n_units_l1': 112, 'dropout_1': 0.2287131538245383, 'lr': 0.016251004054053955}. \n",
            "Unsupported operator aten::log_softmax encountered 1 time(s)\n",
            "[I 2023-08-04 20:27:10,548] Trial 19 finished with values: [4764.0, 0.59765625] and parameters: {'n_layers': 1, 'n_units_l0': 6, 'dropout_0': 0.39168797116120974, 'lr': 0.0008528621969549591}. \n",
            "Unsupported operator aten::log_softmax encountered 1 time(s)\n",
            "[I 2023-08-04 20:27:15,479] Trial 20 finished with values: [57962.0, 0.6734375] and parameters: {'n_layers': 1, 'n_units_l0': 73, 'dropout_0': 0.2993129553008583, 'lr': 7.711504600745666e-05}. \n",
            "Unsupported operator aten::log_softmax encountered 1 time(s)\n",
            "[I 2023-08-04 20:27:20,815] Trial 21 finished with values: [49228.0, 0.69140625] and parameters: {'n_layers': 1, 'n_units_l0': 62, 'dropout_0': 0.3355021631448557, 'lr': 0.00011973599347026575}. \n",
            "Unsupported operator aten::log_softmax encountered 1 time(s)\n",
            "[I 2023-08-04 20:27:25,293] Trial 22 finished with values: [9860.0, 0.3640625] and parameters: {'n_layers': 2, 'n_units_l0': 10, 'dropout_0': 0.35857041018802815, 'n_units_l1': 101, 'dropout_1': 0.3116158137507366, 'lr': 0.014866596354601172}. \n",
            "Unsupported operator aten::log_softmax encountered 1 time(s)\n",
            "[I 2023-08-04 20:27:31,665] Trial 23 finished with values: [8450.0, 0.62265625] and parameters: {'n_layers': 2, 'n_units_l0': 8, 'dropout_0': 0.4156680245479401, 'n_units_l1': 121, 'dropout_1': 0.23022638020039227, 'lr': 0.00189015255005972}. \n",
            "Unsupported operator aten::log_softmax encountered 1 time(s)\n",
            "[I 2023-08-04 20:27:38,518] Trial 24 finished with values: [55284.0, 0.6484375] and parameters: {'n_layers': 3, 'n_units_l0': 62, 'dropout_0': 0.3701634347497796, 'n_units_l1': 86, 'dropout_1': 0.27662180309334383, 'n_units_l2': 14, 'dropout_2': 0.29091830815876724, 'lr': 0.0003496140080131884}. \n",
            "Unsupported operator aten::log_softmax encountered 1 time(s)\n",
            "[I 2023-08-04 20:27:43,239] Trial 25 finished with values: [51610.0, 0.83359375] and parameters: {'n_layers': 1, 'n_units_l0': 65, 'dropout_0': 0.29672341031062854, 'lr': 0.0014259414835512618}. \n",
            "Unsupported operator aten::log_softmax encountered 1 time(s)\n",
            "[I 2023-08-04 20:27:48,466] Trial 26 finished with values: [80194.0, 0.640625] and parameters: {'n_layers': 1, 'n_units_l0': 101, 'dropout_0': 0.2657306079373481, 'lr': 2.7624057443576417e-05}. \n",
            "Unsupported operator aten::log_softmax encountered 1 time(s)\n",
            "[I 2023-08-04 20:27:57,385] Trial 27 finished with values: [38385.0, 0.4890625] and parameters: {'n_layers': 3, 'n_units_l0': 32, 'dropout_0': 0.46755069339704886, 'n_units_l1': 79, 'dropout_1': 0.3640520560961361, 'n_units_l2': 121, 'dropout_2': 0.23685682212595707, 'lr': 6.830991625147866e-05}. \n",
            "Unsupported operator aten::log_softmax encountered 1 time(s)\n",
            "[I 2023-08-04 20:28:04,070] Trial 28 finished with values: [29583.0, 0.12734375] and parameters: {'n_layers': 3, 'n_units_l0': 23, 'dropout_0': 0.4893316557920756, 'n_units_l1': 89, 'dropout_1': 0.29979364785600204, 'n_units_l2': 96, 'dropout_2': 0.3638794275335714, 'lr': 0.04786880131798648}. \n",
            "Unsupported operator aten::log_softmax encountered 1 time(s)\n",
            "[I 2023-08-04 20:28:10,948] Trial 29 finished with values: [95078.0, 0.815625] and parameters: {'n_layers': 3, 'n_units_l0': 96, 'dropout_0': 0.22982367991894057, 'n_units_l1': 84, 'dropout_1': 0.3029650525714867, 'n_units_l2': 125, 'dropout_2': 0.21896513823893776, 'lr': 0.0015139596283791626}. \n"
          ]
        },
        {
          "name": "stdout",
          "output_type": "stream",
          "text": [
            "Number of finished trials:  30\n"
          ]
        }
      ],
      "source": [
        "study = optuna.create_study(directions=[\"minimize\", \"maximize\"])\n",
        "study.optimize(objective, n_trials=30, timeout=300)\n",
        "\n",
        "print(\"Number of finished trials: \", len(study.trials))"
      ]
    },
    {
      "cell_type": "markdown",
      "metadata": {},
      "source": [
        "Check trials on Pareto front visually.\n",
        "\n"
      ]
    },
    {
      "cell_type": "code",
      "execution_count": 8,
      "metadata": {
        "collapsed": false
      },
      "outputs": [
        {
          "data": {
            "application/vnd.plotly.v1+json": {
              "config": {
                "plotlyServerURL": "https://plot.ly"
              },
              "data": [
                {
                  "hovertemplate": "%{text}<extra>Trial</extra>",
                  "marker": {
                    "color": [
                      0,
                      3,
                      4,
                      6,
                      7,
                      8,
                      9,
                      10,
                      11,
                      12,
                      13,
                      14,
                      15,
                      16,
                      17,
                      19,
                      20,
                      21,
                      22,
                      23,
                      24,
                      26,
                      27,
                      28,
                      29
                    ],
                    "colorbar": {
                      "title": {
                        "text": "Trial"
                      }
                    },
                    "colorscale": [
                      [
                        0,
                        "rgb(247,251,255)"
                      ],
                      [
                        0.125,
                        "rgb(222,235,247)"
                      ],
                      [
                        0.25,
                        "rgb(198,219,239)"
                      ],
                      [
                        0.375,
                        "rgb(158,202,225)"
                      ],
                      [
                        0.5,
                        "rgb(107,174,214)"
                      ],
                      [
                        0.625,
                        "rgb(66,146,198)"
                      ],
                      [
                        0.75,
                        "rgb(33,113,181)"
                      ],
                      [
                        0.875,
                        "rgb(8,81,156)"
                      ],
                      [
                        1,
                        "rgb(8,48,107)"
                      ]
                    ],
                    "line": {
                      "color": "Grey",
                      "width": 0.5
                    }
                  },
                  "mode": "markers",
                  "showlegend": false,
                  "text": [
                    "{<br>  \"number\": 0,<br>  \"values\": [<br>    25044.0,<br>    0.1015625<br>  ],<br>  \"params\": {<br>    \"n_layers\": 3,<br>    \"n_units_l0\": 30,<br>    \"dropout_0\": 0.4446240697308833,<br>    \"n_units_l1\": 38,<br>    \"dropout_1\": 0.3801673204753159,<br>    \"n_units_l2\": 8,<br>    \"dropout_2\": 0.31923257989851883,<br>    \"lr\": 1.029360567752296e-05<br>  }<br>}",
                    "{<br>  \"number\": 3,<br>  \"values\": [<br>    20360.0,<br>    0.22734375<br>  ],<br>  \"params\": {<br>    \"n_layers\": 3,<br>    \"n_units_l0\": 22,<br>    \"dropout_0\": 0.34522729158548704,<br>    \"n_units_l1\": 58,<br>    \"dropout_1\": 0.4958050385356089,<br>    \"n_units_l2\": 27,<br>    \"dropout_2\": 0.4056278272968485,<br>    \"lr\": 0.05000327600430981<br>  }<br>}",
                    "{<br>  \"number\": 4,<br>  \"values\": [<br>    60344.0,<br>    0.79609375<br>  ],<br>  \"params\": {<br>    \"n_layers\": 1,<br>    \"n_units_l0\": 76,<br>    \"dropout_0\": 0.3356907580462575,<br>    \"lr\": 0.0007624295921153646<br>  }<br>}",
                    "{<br>  \"number\": 6,<br>  \"values\": [<br>    24614.0,<br>    0.65234375<br>  ],<br>  \"params\": {<br>    \"n_layers\": 1,<br>    \"n_units_l0\": 31,<br>    \"dropout_0\": 0.21928244711904699,<br>    \"lr\": 0.00015130934920171518<br>  }<br>}",
                    "{<br>  \"number\": 7,<br>  \"values\": [<br>    90516.0,<br>    0.21015625<br>  ],<br>  \"params\": {<br>    \"n_layers\": 1,<br>    \"n_units_l0\": 114,<br>    \"dropout_0\": 0.446924828200022,<br>    \"lr\": 0.09193101572810389<br>  }<br>}",
                    "{<br>  \"number\": 8,<br>  \"values\": [<br>    12348.0,<br>    0.58203125<br>  ],<br>  \"params\": {<br>    \"n_layers\": 3,<br>    \"n_units_l0\": 7,<br>    \"dropout_0\": 0.33261075957948183,<br>    \"n_units_l1\": 89,<br>    \"dropout_1\": 0.32853066423807376,<br>    \"n_units_l2\": 63,<br>    \"dropout_2\": 0.4859893753241485,<br>    \"lr\": 0.005098243270748442<br>  }<br>}",
                    "{<br>  \"number\": 9,<br>  \"values\": [<br>    51610.0,<br>    0.56171875<br>  ],<br>  \"params\": {<br>    \"n_layers\": 1,<br>    \"n_units_l0\": 65,<br>    \"dropout_0\": 0.2684776654649853,<br>    \"lr\": 3.095424754172909e-05<br>  }<br>}",
                    "{<br>  \"number\": 10,<br>  \"values\": [<br>    85646.0,<br>    0.76796875<br>  ],<br>  \"params\": {<br>    \"n_layers\": 3,<br>    \"n_units_l0\": 87,<br>    \"dropout_0\": 0.21184172487270883,<br>    \"n_units_l1\": 82,<br>    \"dropout_1\": 0.22307654564254553,<br>    \"n_units_l2\": 112,<br>    \"dropout_2\": 0.2564214005497228,<br>    \"lr\": 0.019300899368018577<br>  }<br>}",
                    "{<br>  \"number\": 11,<br>  \"values\": [<br>    68284.0,<br>    0.8171875<br>  ],<br>  \"params\": {<br>    \"n_layers\": 1,<br>    \"n_units_l0\": 86,<br>    \"dropout_0\": 0.21897826920358007,<br>    \"lr\": 0.008851733669303826<br>  }<br>}",
                    "{<br>  \"number\": 12,<br>  \"values\": [<br>    99492.0,<br>    0.49609375<br>  ],<br>  \"params\": {<br>    \"n_layers\": 3,<br>    \"n_units_l0\": 123,<br>    \"dropout_0\": 0.48577364221364155,<br>    \"n_units_l1\": 20,<br>    \"dropout_1\": 0.3532808599249112,<br>    \"n_units_l2\": 20,<br>    \"dropout_2\": 0.3992990070479931,<br>    \"lr\": 0.00021048545738580103<br>  }<br>}",
                    "{<br>  \"number\": 13,<br>  \"values\": [<br>    64314.0,<br>    0.37109375<br>  ],<br>  \"params\": {<br>    \"n_layers\": 1,<br>    \"n_units_l0\": 81,<br>    \"dropout_0\": 0.3070828281029139,<br>    \"lr\": 0.09569013865817887<br>  }<br>}",
                    "{<br>  \"number\": 14,<br>  \"values\": [<br>    69078.0,<br>    0.8046875<br>  ],<br>  \"params\": {<br>    \"n_layers\": 1,<br>    \"n_units_l0\": 87,<br>    \"dropout_0\": 0.34685049299668536,<br>    \"lr\": 0.0006533974300030856<br>  }<br>}",
                    "{<br>  \"number\": 15,<br>  \"values\": [<br>    92898.0,<br>    0.81015625<br>  ],<br>  \"params\": {<br>    \"n_layers\": 1,<br>    \"n_units_l0\": 117,<br>    \"dropout_0\": 0.43210066273012815,<br>    \"lr\": 0.0008509395995957341<br>  }<br>}",
                    "{<br>  \"number\": 16,<br>  \"values\": [<br>    99250.0,<br>    0.77890625<br>  ],<br>  \"params\": {<br>    \"n_layers\": 1,<br>    \"n_units_l0\": 125,<br>    \"dropout_0\": 0.4438973348152544,<br>    \"lr\": 0.031273944317975595<br>  }<br>}",
                    "{<br>  \"number\": 17,<br>  \"values\": [<br>    82576.0,<br>    0.6734375<br>  ],<br>  \"params\": {<br>    \"n_layers\": 1,<br>    \"n_units_l0\": 104,<br>    \"dropout_0\": 0.29330618532188346,<br>    \"lr\": 7.469286071682774e-05<br>  }<br>}",
                    "{<br>  \"number\": 19,<br>  \"values\": [<br>    4764.0,<br>    0.59765625<br>  ],<br>  \"params\": {<br>    \"n_layers\": 1,<br>    \"n_units_l0\": 6,<br>    \"dropout_0\": 0.39168797116120974,<br>    \"lr\": 0.0008528621969549591<br>  }<br>}",
                    "{<br>  \"number\": 20,<br>  \"values\": [<br>    57962.0,<br>    0.6734375<br>  ],<br>  \"params\": {<br>    \"n_layers\": 1,<br>    \"n_units_l0\": 73,<br>    \"dropout_0\": 0.2993129553008583,<br>    \"lr\": 7.711504600745666e-05<br>  }<br>}",
                    "{<br>  \"number\": 21,<br>  \"values\": [<br>    49228.0,<br>    0.69140625<br>  ],<br>  \"params\": {<br>    \"n_layers\": 1,<br>    \"n_units_l0\": 62,<br>    \"dropout_0\": 0.3355021631448557,<br>    \"lr\": 0.00011973599347026575<br>  }<br>}",
                    "{<br>  \"number\": 22,<br>  \"values\": [<br>    9860.0,<br>    0.3640625<br>  ],<br>  \"params\": {<br>    \"n_layers\": 2,<br>    \"n_units_l0\": 10,<br>    \"dropout_0\": 0.35857041018802815,<br>    \"n_units_l1\": 101,<br>    \"dropout_1\": 0.3116158137507366,<br>    \"lr\": 0.014866596354601172<br>  }<br>}",
                    "{<br>  \"number\": 23,<br>  \"values\": [<br>    8450.0,<br>    0.62265625<br>  ],<br>  \"params\": {<br>    \"n_layers\": 2,<br>    \"n_units_l0\": 8,<br>    \"dropout_0\": 0.4156680245479401,<br>    \"n_units_l1\": 121,<br>    \"dropout_1\": 0.23022638020039227,<br>    \"lr\": 0.00189015255005972<br>  }<br>}",
                    "{<br>  \"number\": 24,<br>  \"values\": [<br>    55284.0,<br>    0.6484375<br>  ],<br>  \"params\": {<br>    \"n_layers\": 3,<br>    \"n_units_l0\": 62,<br>    \"dropout_0\": 0.3701634347497796,<br>    \"n_units_l1\": 86,<br>    \"dropout_1\": 0.27662180309334383,<br>    \"n_units_l2\": 14,<br>    \"dropout_2\": 0.29091830815876724,<br>    \"lr\": 0.0003496140080131884<br>  }<br>}",
                    "{<br>  \"number\": 26,<br>  \"values\": [<br>    80194.0,<br>    0.640625<br>  ],<br>  \"params\": {<br>    \"n_layers\": 1,<br>    \"n_units_l0\": 101,<br>    \"dropout_0\": 0.2657306079373481,<br>    \"lr\": 2.7624057443576417e-05<br>  }<br>}",
                    "{<br>  \"number\": 27,<br>  \"values\": [<br>    38385.0,<br>    0.4890625<br>  ],<br>  \"params\": {<br>    \"n_layers\": 3,<br>    \"n_units_l0\": 32,<br>    \"dropout_0\": 0.46755069339704886,<br>    \"n_units_l1\": 79,<br>    \"dropout_1\": 0.3640520560961361,<br>    \"n_units_l2\": 121,<br>    \"dropout_2\": 0.23685682212595707,<br>    \"lr\": 6.830991625147866e-05<br>  }<br>}",
                    "{<br>  \"number\": 28,<br>  \"values\": [<br>    29583.0,<br>    0.12734375<br>  ],<br>  \"params\": {<br>    \"n_layers\": 3,<br>    \"n_units_l0\": 23,<br>    \"dropout_0\": 0.4893316557920756,<br>    \"n_units_l1\": 89,<br>    \"dropout_1\": 0.29979364785600204,<br>    \"n_units_l2\": 96,<br>    \"dropout_2\": 0.3638794275335714,<br>    \"lr\": 0.04786880131798648<br>  }<br>}",
                    "{<br>  \"number\": 29,<br>  \"values\": [<br>    95078.0,<br>    0.815625<br>  ],<br>  \"params\": {<br>    \"n_layers\": 3,<br>    \"n_units_l0\": 96,<br>    \"dropout_0\": 0.22982367991894057,<br>    \"n_units_l1\": 84,<br>    \"dropout_1\": 0.3029650525714867,<br>    \"n_units_l2\": 125,<br>    \"dropout_2\": 0.21896513823893776,<br>    \"lr\": 0.0015139596283791626<br>  }<br>}"
                  ],
                  "type": "scatter",
                  "x": [
                    25044,
                    20360,
                    60344,
                    24614,
                    90516,
                    12348,
                    51610,
                    85646,
                    68284,
                    99492,
                    64314,
                    69078,
                    92898,
                    99250,
                    82576,
                    4764,
                    57962,
                    49228,
                    9860,
                    8450,
                    55284,
                    80194,
                    38385,
                    29583,
                    95078
                  ],
                  "y": [
                    0.1015625,
                    0.22734375,
                    0.79609375,
                    0.65234375,
                    0.21015625,
                    0.58203125,
                    0.56171875,
                    0.76796875,
                    0.8171875,
                    0.49609375,
                    0.37109375,
                    0.8046875,
                    0.81015625,
                    0.77890625,
                    0.6734375,
                    0.59765625,
                    0.6734375,
                    0.69140625,
                    0.3640625,
                    0.62265625,
                    0.6484375,
                    0.640625,
                    0.4890625,
                    0.12734375,
                    0.815625
                  ]
                },
                {
                  "hovertemplate": "%{text}<extra>Best Trial</extra>",
                  "marker": {
                    "color": [
                      1,
                      2,
                      5,
                      18,
                      25
                    ],
                    "colorbar": {
                      "title": {
                        "text": "Best Trial"
                      },
                      "x": 1.1,
                      "xpad": 40
                    },
                    "colorscale": [
                      [
                        0,
                        "rgb(255,245,240)"
                      ],
                      [
                        0.125,
                        "rgb(254,224,210)"
                      ],
                      [
                        0.25,
                        "rgb(252,187,161)"
                      ],
                      [
                        0.375,
                        "rgb(252,146,114)"
                      ],
                      [
                        0.5,
                        "rgb(251,106,74)"
                      ],
                      [
                        0.625,
                        "rgb(239,59,44)"
                      ],
                      [
                        0.75,
                        "rgb(203,24,29)"
                      ],
                      [
                        0.875,
                        "rgb(165,15,21)"
                      ],
                      [
                        1,
                        "rgb(103,0,13)"
                      ]
                    ],
                    "line": {
                      "color": "Grey",
                      "width": 0.5
                    }
                  },
                  "mode": "markers",
                  "showlegend": false,
                  "text": [
                    "{<br>  \"number\": 1,<br>  \"values\": [<br>    19850.0,<br>    0.74921875<br>  ],<br>  \"params\": {<br>    \"n_layers\": 1,<br>    \"n_units_l0\": 25,<br>    \"dropout_0\": 0.3390433797958868,<br>    \"lr\": 0.0013064072565525235<br>  }<br>}",
                    "{<br>  \"number\": 2,<br>  \"values\": [<br>    4764.0,<br>    0.65625<br>  ],<br>  \"params\": {<br>    \"n_layers\": 1,<br>    \"n_units_l0\": 6,<br>    \"dropout_0\": 0.3579482208276602,<br>    \"lr\": 0.015082031362216084<br>  }<br>}",
                    "{<br>  \"number\": 5,<br>  \"values\": [<br>    4482.0,<br>    0.09296875<br>  ],<br>  \"params\": {<br>    \"n_layers\": 3,<br>    \"n_units_l0\": 5,<br>    \"dropout_0\": 0.4963423828543316,<br>    \"n_units_l1\": 8,<br>    \"dropout_1\": 0.49521121629073983,<br>    \"n_units_l2\": 29,<br>    \"dropout_2\": 0.4879798950896789,<br>    \"lr\": 0.04309321978599388<br>  }<br>}",
                    "{<br>  \"number\": 18,<br>  \"values\": [<br>    50400.0,<br>    0.8015625<br>  ],<br>  \"params\": {<br>    \"n_layers\": 2,<br>    \"n_units_l0\": 55,<br>    \"dropout_0\": 0.3867302331203543,<br>    \"n_units_l1\": 112,<br>    \"dropout_1\": 0.2287131538245383,<br>    \"lr\": 0.016251004054053955<br>  }<br>}",
                    "{<br>  \"number\": 25,<br>  \"values\": [<br>    51610.0,<br>    0.83359375<br>  ],<br>  \"params\": {<br>    \"n_layers\": 1,<br>    \"n_units_l0\": 65,<br>    \"dropout_0\": 0.29672341031062854,<br>    \"lr\": 0.0014259414835512618<br>  }<br>}"
                  ],
                  "type": "scatter",
                  "x": [
                    19850,
                    4764,
                    4482,
                    50400,
                    51610
                  ],
                  "y": [
                    0.74921875,
                    0.65625,
                    0.09296875,
                    0.8015625,
                    0.83359375
                  ]
                }
              ],
              "layout": {
                "template": {
                  "data": {
                    "bar": [
                      {
                        "error_x": {
                          "color": "#2a3f5f"
                        },
                        "error_y": {
                          "color": "#2a3f5f"
                        },
                        "marker": {
                          "line": {
                            "color": "#E5ECF6",
                            "width": 0.5
                          }
                        },
                        "type": "bar"
                      }
                    ],
                    "barpolar": [
                      {
                        "marker": {
                          "line": {
                            "color": "#E5ECF6",
                            "width": 0.5
                          }
                        },
                        "type": "barpolar"
                      }
                    ],
                    "carpet": [
                      {
                        "aaxis": {
                          "endlinecolor": "#2a3f5f",
                          "gridcolor": "white",
                          "linecolor": "white",
                          "minorgridcolor": "white",
                          "startlinecolor": "#2a3f5f"
                        },
                        "baxis": {
                          "endlinecolor": "#2a3f5f",
                          "gridcolor": "white",
                          "linecolor": "white",
                          "minorgridcolor": "white",
                          "startlinecolor": "#2a3f5f"
                        },
                        "type": "carpet"
                      }
                    ],
                    "choropleth": [
                      {
                        "colorbar": {
                          "outlinewidth": 0,
                          "ticks": ""
                        },
                        "type": "choropleth"
                      }
                    ],
                    "contour": [
                      {
                        "colorbar": {
                          "outlinewidth": 0,
                          "ticks": ""
                        },
                        "colorscale": [
                          [
                            0,
                            "#0d0887"
                          ],
                          [
                            0.1111111111111111,
                            "#46039f"
                          ],
                          [
                            0.2222222222222222,
                            "#7201a8"
                          ],
                          [
                            0.3333333333333333,
                            "#9c179e"
                          ],
                          [
                            0.4444444444444444,
                            "#bd3786"
                          ],
                          [
                            0.5555555555555556,
                            "#d8576b"
                          ],
                          [
                            0.6666666666666666,
                            "#ed7953"
                          ],
                          [
                            0.7777777777777778,
                            "#fb9f3a"
                          ],
                          [
                            0.8888888888888888,
                            "#fdca26"
                          ],
                          [
                            1,
                            "#f0f921"
                          ]
                        ],
                        "type": "contour"
                      }
                    ],
                    "contourcarpet": [
                      {
                        "colorbar": {
                          "outlinewidth": 0,
                          "ticks": ""
                        },
                        "type": "contourcarpet"
                      }
                    ],
                    "heatmap": [
                      {
                        "colorbar": {
                          "outlinewidth": 0,
                          "ticks": ""
                        },
                        "colorscale": [
                          [
                            0,
                            "#0d0887"
                          ],
                          [
                            0.1111111111111111,
                            "#46039f"
                          ],
                          [
                            0.2222222222222222,
                            "#7201a8"
                          ],
                          [
                            0.3333333333333333,
                            "#9c179e"
                          ],
                          [
                            0.4444444444444444,
                            "#bd3786"
                          ],
                          [
                            0.5555555555555556,
                            "#d8576b"
                          ],
                          [
                            0.6666666666666666,
                            "#ed7953"
                          ],
                          [
                            0.7777777777777778,
                            "#fb9f3a"
                          ],
                          [
                            0.8888888888888888,
                            "#fdca26"
                          ],
                          [
                            1,
                            "#f0f921"
                          ]
                        ],
                        "type": "heatmap"
                      }
                    ],
                    "heatmapgl": [
                      {
                        "colorbar": {
                          "outlinewidth": 0,
                          "ticks": ""
                        },
                        "colorscale": [
                          [
                            0,
                            "#0d0887"
                          ],
                          [
                            0.1111111111111111,
                            "#46039f"
                          ],
                          [
                            0.2222222222222222,
                            "#7201a8"
                          ],
                          [
                            0.3333333333333333,
                            "#9c179e"
                          ],
                          [
                            0.4444444444444444,
                            "#bd3786"
                          ],
                          [
                            0.5555555555555556,
                            "#d8576b"
                          ],
                          [
                            0.6666666666666666,
                            "#ed7953"
                          ],
                          [
                            0.7777777777777778,
                            "#fb9f3a"
                          ],
                          [
                            0.8888888888888888,
                            "#fdca26"
                          ],
                          [
                            1,
                            "#f0f921"
                          ]
                        ],
                        "type": "heatmapgl"
                      }
                    ],
                    "histogram": [
                      {
                        "marker": {
                          "colorbar": {
                            "outlinewidth": 0,
                            "ticks": ""
                          }
                        },
                        "type": "histogram"
                      }
                    ],
                    "histogram2d": [
                      {
                        "colorbar": {
                          "outlinewidth": 0,
                          "ticks": ""
                        },
                        "colorscale": [
                          [
                            0,
                            "#0d0887"
                          ],
                          [
                            0.1111111111111111,
                            "#46039f"
                          ],
                          [
                            0.2222222222222222,
                            "#7201a8"
                          ],
                          [
                            0.3333333333333333,
                            "#9c179e"
                          ],
                          [
                            0.4444444444444444,
                            "#bd3786"
                          ],
                          [
                            0.5555555555555556,
                            "#d8576b"
                          ],
                          [
                            0.6666666666666666,
                            "#ed7953"
                          ],
                          [
                            0.7777777777777778,
                            "#fb9f3a"
                          ],
                          [
                            0.8888888888888888,
                            "#fdca26"
                          ],
                          [
                            1,
                            "#f0f921"
                          ]
                        ],
                        "type": "histogram2d"
                      }
                    ],
                    "histogram2dcontour": [
                      {
                        "colorbar": {
                          "outlinewidth": 0,
                          "ticks": ""
                        },
                        "colorscale": [
                          [
                            0,
                            "#0d0887"
                          ],
                          [
                            0.1111111111111111,
                            "#46039f"
                          ],
                          [
                            0.2222222222222222,
                            "#7201a8"
                          ],
                          [
                            0.3333333333333333,
                            "#9c179e"
                          ],
                          [
                            0.4444444444444444,
                            "#bd3786"
                          ],
                          [
                            0.5555555555555556,
                            "#d8576b"
                          ],
                          [
                            0.6666666666666666,
                            "#ed7953"
                          ],
                          [
                            0.7777777777777778,
                            "#fb9f3a"
                          ],
                          [
                            0.8888888888888888,
                            "#fdca26"
                          ],
                          [
                            1,
                            "#f0f921"
                          ]
                        ],
                        "type": "histogram2dcontour"
                      }
                    ],
                    "mesh3d": [
                      {
                        "colorbar": {
                          "outlinewidth": 0,
                          "ticks": ""
                        },
                        "type": "mesh3d"
                      }
                    ],
                    "parcoords": [
                      {
                        "line": {
                          "colorbar": {
                            "outlinewidth": 0,
                            "ticks": ""
                          }
                        },
                        "type": "parcoords"
                      }
                    ],
                    "scatter": [
                      {
                        "marker": {
                          "colorbar": {
                            "outlinewidth": 0,
                            "ticks": ""
                          }
                        },
                        "type": "scatter"
                      }
                    ],
                    "scatter3d": [
                      {
                        "line": {
                          "colorbar": {
                            "outlinewidth": 0,
                            "ticks": ""
                          }
                        },
                        "marker": {
                          "colorbar": {
                            "outlinewidth": 0,
                            "ticks": ""
                          }
                        },
                        "type": "scatter3d"
                      }
                    ],
                    "scattercarpet": [
                      {
                        "marker": {
                          "colorbar": {
                            "outlinewidth": 0,
                            "ticks": ""
                          }
                        },
                        "type": "scattercarpet"
                      }
                    ],
                    "scattergeo": [
                      {
                        "marker": {
                          "colorbar": {
                            "outlinewidth": 0,
                            "ticks": ""
                          }
                        },
                        "type": "scattergeo"
                      }
                    ],
                    "scattergl": [
                      {
                        "marker": {
                          "colorbar": {
                            "outlinewidth": 0,
                            "ticks": ""
                          }
                        },
                        "type": "scattergl"
                      }
                    ],
                    "scattermapbox": [
                      {
                        "marker": {
                          "colorbar": {
                            "outlinewidth": 0,
                            "ticks": ""
                          }
                        },
                        "type": "scattermapbox"
                      }
                    ],
                    "scatterpolar": [
                      {
                        "marker": {
                          "colorbar": {
                            "outlinewidth": 0,
                            "ticks": ""
                          }
                        },
                        "type": "scatterpolar"
                      }
                    ],
                    "scatterpolargl": [
                      {
                        "marker": {
                          "colorbar": {
                            "outlinewidth": 0,
                            "ticks": ""
                          }
                        },
                        "type": "scatterpolargl"
                      }
                    ],
                    "scatterternary": [
                      {
                        "marker": {
                          "colorbar": {
                            "outlinewidth": 0,
                            "ticks": ""
                          }
                        },
                        "type": "scatterternary"
                      }
                    ],
                    "surface": [
                      {
                        "colorbar": {
                          "outlinewidth": 0,
                          "ticks": ""
                        },
                        "colorscale": [
                          [
                            0,
                            "#0d0887"
                          ],
                          [
                            0.1111111111111111,
                            "#46039f"
                          ],
                          [
                            0.2222222222222222,
                            "#7201a8"
                          ],
                          [
                            0.3333333333333333,
                            "#9c179e"
                          ],
                          [
                            0.4444444444444444,
                            "#bd3786"
                          ],
                          [
                            0.5555555555555556,
                            "#d8576b"
                          ],
                          [
                            0.6666666666666666,
                            "#ed7953"
                          ],
                          [
                            0.7777777777777778,
                            "#fb9f3a"
                          ],
                          [
                            0.8888888888888888,
                            "#fdca26"
                          ],
                          [
                            1,
                            "#f0f921"
                          ]
                        ],
                        "type": "surface"
                      }
                    ],
                    "table": [
                      {
                        "cells": {
                          "fill": {
                            "color": "#EBF0F8"
                          },
                          "line": {
                            "color": "white"
                          }
                        },
                        "header": {
                          "fill": {
                            "color": "#C8D4E3"
                          },
                          "line": {
                            "color": "white"
                          }
                        },
                        "type": "table"
                      }
                    ]
                  },
                  "layout": {
                    "annotationdefaults": {
                      "arrowcolor": "#2a3f5f",
                      "arrowhead": 0,
                      "arrowwidth": 1
                    },
                    "colorscale": {
                      "diverging": [
                        [
                          0,
                          "#8e0152"
                        ],
                        [
                          0.1,
                          "#c51b7d"
                        ],
                        [
                          0.2,
                          "#de77ae"
                        ],
                        [
                          0.3,
                          "#f1b6da"
                        ],
                        [
                          0.4,
                          "#fde0ef"
                        ],
                        [
                          0.5,
                          "#f7f7f7"
                        ],
                        [
                          0.6,
                          "#e6f5d0"
                        ],
                        [
                          0.7,
                          "#b8e186"
                        ],
                        [
                          0.8,
                          "#7fbc41"
                        ],
                        [
                          0.9,
                          "#4d9221"
                        ],
                        [
                          1,
                          "#276419"
                        ]
                      ],
                      "sequential": [
                        [
                          0,
                          "#0d0887"
                        ],
                        [
                          0.1111111111111111,
                          "#46039f"
                        ],
                        [
                          0.2222222222222222,
                          "#7201a8"
                        ],
                        [
                          0.3333333333333333,
                          "#9c179e"
                        ],
                        [
                          0.4444444444444444,
                          "#bd3786"
                        ],
                        [
                          0.5555555555555556,
                          "#d8576b"
                        ],
                        [
                          0.6666666666666666,
                          "#ed7953"
                        ],
                        [
                          0.7777777777777778,
                          "#fb9f3a"
                        ],
                        [
                          0.8888888888888888,
                          "#fdca26"
                        ],
                        [
                          1,
                          "#f0f921"
                        ]
                      ],
                      "sequentialminus": [
                        [
                          0,
                          "#0d0887"
                        ],
                        [
                          0.1111111111111111,
                          "#46039f"
                        ],
                        [
                          0.2222222222222222,
                          "#7201a8"
                        ],
                        [
                          0.3333333333333333,
                          "#9c179e"
                        ],
                        [
                          0.4444444444444444,
                          "#bd3786"
                        ],
                        [
                          0.5555555555555556,
                          "#d8576b"
                        ],
                        [
                          0.6666666666666666,
                          "#ed7953"
                        ],
                        [
                          0.7777777777777778,
                          "#fb9f3a"
                        ],
                        [
                          0.8888888888888888,
                          "#fdca26"
                        ],
                        [
                          1,
                          "#f0f921"
                        ]
                      ]
                    },
                    "colorway": [
                      "#636efa",
                      "#EF553B",
                      "#00cc96",
                      "#ab63fa",
                      "#FFA15A",
                      "#19d3f3",
                      "#FF6692",
                      "#B6E880",
                      "#FF97FF",
                      "#FECB52"
                    ],
                    "font": {
                      "color": "#2a3f5f"
                    },
                    "geo": {
                      "bgcolor": "white",
                      "lakecolor": "white",
                      "landcolor": "#E5ECF6",
                      "showlakes": true,
                      "showland": true,
                      "subunitcolor": "white"
                    },
                    "hoverlabel": {
                      "align": "left"
                    },
                    "hovermode": "closest",
                    "mapbox": {
                      "style": "light"
                    },
                    "paper_bgcolor": "white",
                    "plot_bgcolor": "#E5ECF6",
                    "polar": {
                      "angularaxis": {
                        "gridcolor": "white",
                        "linecolor": "white",
                        "ticks": ""
                      },
                      "bgcolor": "#E5ECF6",
                      "radialaxis": {
                        "gridcolor": "white",
                        "linecolor": "white",
                        "ticks": ""
                      }
                    },
                    "scene": {
                      "xaxis": {
                        "backgroundcolor": "#E5ECF6",
                        "gridcolor": "white",
                        "gridwidth": 2,
                        "linecolor": "white",
                        "showbackground": true,
                        "ticks": "",
                        "zerolinecolor": "white"
                      },
                      "yaxis": {
                        "backgroundcolor": "#E5ECF6",
                        "gridcolor": "white",
                        "gridwidth": 2,
                        "linecolor": "white",
                        "showbackground": true,
                        "ticks": "",
                        "zerolinecolor": "white"
                      },
                      "zaxis": {
                        "backgroundcolor": "#E5ECF6",
                        "gridcolor": "white",
                        "gridwidth": 2,
                        "linecolor": "white",
                        "showbackground": true,
                        "ticks": "",
                        "zerolinecolor": "white"
                      }
                    },
                    "shapedefaults": {
                      "line": {
                        "color": "#2a3f5f"
                      }
                    },
                    "ternary": {
                      "aaxis": {
                        "gridcolor": "white",
                        "linecolor": "white",
                        "ticks": ""
                      },
                      "baxis": {
                        "gridcolor": "white",
                        "linecolor": "white",
                        "ticks": ""
                      },
                      "bgcolor": "#E5ECF6",
                      "caxis": {
                        "gridcolor": "white",
                        "linecolor": "white",
                        "ticks": ""
                      }
                    },
                    "title": {
                      "x": 0.05
                    },
                    "xaxis": {
                      "automargin": true,
                      "gridcolor": "white",
                      "linecolor": "white",
                      "ticks": "",
                      "zerolinecolor": "white",
                      "zerolinewidth": 2
                    },
                    "yaxis": {
                      "automargin": true,
                      "gridcolor": "white",
                      "linecolor": "white",
                      "ticks": "",
                      "zerolinecolor": "white",
                      "zerolinewidth": 2
                    }
                  }
                },
                "title": {
                  "text": "Pareto-front Plot"
                },
                "xaxis": {
                  "title": {
                    "text": "FLOPS"
                  }
                },
                "yaxis": {
                  "title": {
                    "text": "accuracy"
                  }
                }
              }
            }
          },
          "metadata": {},
          "output_type": "display_data"
        }
      ],
      "source": [
        "optuna.visualization.plot_pareto_front(study, target_names=[\"FLOPS\", \"accuracy\"])"
      ]
    },
    {
      "cell_type": "markdown",
      "metadata": {},
      "source": [
        "Fetch the list of trials on the Pareto front with :attr:`~optuna.study.Study.best_trials`.\n",
        "\n",
        "For example, the following code shows the number of trials on the Pareto front and picks the trial with the highest accuracy.\n",
        "\n"
      ]
    },
    {
      "cell_type": "code",
      "execution_count": 9,
      "metadata": {
        "collapsed": false
      },
      "outputs": [
        {
          "name": "stdout",
          "output_type": "stream",
          "text": [
            "Number of trials on the Pareto front: 5\n",
            "Trial with highest accuracy: \n",
            "\tnumber: 25\n",
            "\tparams: {'n_layers': 1, 'n_units_l0': 65, 'dropout_0': 0.29672341031062854, 'lr': 0.0014259414835512618}\n",
            "\tvalues: [51610.0, 0.83359375]\n"
          ]
        }
      ],
      "source": [
        "print(f\"Number of trials on the Pareto front: {len(study.best_trials)}\")\n",
        "\n",
        "trial_with_highest_accuracy = max(study.best_trials, key=lambda t: t.values[1])\n",
        "print(f\"Trial with highest accuracy: \")\n",
        "print(f\"\\tnumber: {trial_with_highest_accuracy.number}\")\n",
        "print(f\"\\tparams: {trial_with_highest_accuracy.params}\")\n",
        "print(f\"\\tvalues: {trial_with_highest_accuracy.values}\")"
      ]
    },
    {
      "cell_type": "markdown",
      "metadata": {},
      "source": [
        "Learn which hyperparameters are affecting the flops most with hyperparameter importance.\n",
        "\n"
      ]
    },
    {
      "cell_type": "code",
      "execution_count": 10,
      "metadata": {
        "collapsed": false
      },
      "outputs": [
        {
          "data": {
            "application/vnd.plotly.v1+json": {
              "config": {
                "plotlyServerURL": "https://plot.ly"
              },
              "data": [
                {
                  "cliponaxis": false,
                  "hovertemplate": [
                    "lr (FloatDistribution): 0.0005499619009335675<extra></extra>",
                    "n_layers (IntDistribution): 0.0011992485733858143<extra></extra>",
                    "dropout_0 (FloatDistribution): 0.0036145177872587224<extra></extra>",
                    "n_units_l0 (IntDistribution): 0.994636271738422<extra></extra>"
                  ],
                  "marker": {
                    "color": "rgb(66,146,198)"
                  },
                  "orientation": "h",
                  "text": [
                    "<0.01",
                    "<0.01",
                    "<0.01",
                    "0.99"
                  ],
                  "textposition": "outside",
                  "type": "bar",
                  "x": [
                    0.0005499619009335675,
                    0.0011992485733858143,
                    0.0036145177872587224,
                    0.994636271738422
                  ],
                  "y": [
                    "lr",
                    "n_layers",
                    "dropout_0",
                    "n_units_l0"
                  ]
                }
              ],
              "layout": {
                "showlegend": false,
                "template": {
                  "data": {
                    "bar": [
                      {
                        "error_x": {
                          "color": "#2a3f5f"
                        },
                        "error_y": {
                          "color": "#2a3f5f"
                        },
                        "marker": {
                          "line": {
                            "color": "#E5ECF6",
                            "width": 0.5
                          }
                        },
                        "type": "bar"
                      }
                    ],
                    "barpolar": [
                      {
                        "marker": {
                          "line": {
                            "color": "#E5ECF6",
                            "width": 0.5
                          }
                        },
                        "type": "barpolar"
                      }
                    ],
                    "carpet": [
                      {
                        "aaxis": {
                          "endlinecolor": "#2a3f5f",
                          "gridcolor": "white",
                          "linecolor": "white",
                          "minorgridcolor": "white",
                          "startlinecolor": "#2a3f5f"
                        },
                        "baxis": {
                          "endlinecolor": "#2a3f5f",
                          "gridcolor": "white",
                          "linecolor": "white",
                          "minorgridcolor": "white",
                          "startlinecolor": "#2a3f5f"
                        },
                        "type": "carpet"
                      }
                    ],
                    "choropleth": [
                      {
                        "colorbar": {
                          "outlinewidth": 0,
                          "ticks": ""
                        },
                        "type": "choropleth"
                      }
                    ],
                    "contour": [
                      {
                        "colorbar": {
                          "outlinewidth": 0,
                          "ticks": ""
                        },
                        "colorscale": [
                          [
                            0,
                            "#0d0887"
                          ],
                          [
                            0.1111111111111111,
                            "#46039f"
                          ],
                          [
                            0.2222222222222222,
                            "#7201a8"
                          ],
                          [
                            0.3333333333333333,
                            "#9c179e"
                          ],
                          [
                            0.4444444444444444,
                            "#bd3786"
                          ],
                          [
                            0.5555555555555556,
                            "#d8576b"
                          ],
                          [
                            0.6666666666666666,
                            "#ed7953"
                          ],
                          [
                            0.7777777777777778,
                            "#fb9f3a"
                          ],
                          [
                            0.8888888888888888,
                            "#fdca26"
                          ],
                          [
                            1,
                            "#f0f921"
                          ]
                        ],
                        "type": "contour"
                      }
                    ],
                    "contourcarpet": [
                      {
                        "colorbar": {
                          "outlinewidth": 0,
                          "ticks": ""
                        },
                        "type": "contourcarpet"
                      }
                    ],
                    "heatmap": [
                      {
                        "colorbar": {
                          "outlinewidth": 0,
                          "ticks": ""
                        },
                        "colorscale": [
                          [
                            0,
                            "#0d0887"
                          ],
                          [
                            0.1111111111111111,
                            "#46039f"
                          ],
                          [
                            0.2222222222222222,
                            "#7201a8"
                          ],
                          [
                            0.3333333333333333,
                            "#9c179e"
                          ],
                          [
                            0.4444444444444444,
                            "#bd3786"
                          ],
                          [
                            0.5555555555555556,
                            "#d8576b"
                          ],
                          [
                            0.6666666666666666,
                            "#ed7953"
                          ],
                          [
                            0.7777777777777778,
                            "#fb9f3a"
                          ],
                          [
                            0.8888888888888888,
                            "#fdca26"
                          ],
                          [
                            1,
                            "#f0f921"
                          ]
                        ],
                        "type": "heatmap"
                      }
                    ],
                    "heatmapgl": [
                      {
                        "colorbar": {
                          "outlinewidth": 0,
                          "ticks": ""
                        },
                        "colorscale": [
                          [
                            0,
                            "#0d0887"
                          ],
                          [
                            0.1111111111111111,
                            "#46039f"
                          ],
                          [
                            0.2222222222222222,
                            "#7201a8"
                          ],
                          [
                            0.3333333333333333,
                            "#9c179e"
                          ],
                          [
                            0.4444444444444444,
                            "#bd3786"
                          ],
                          [
                            0.5555555555555556,
                            "#d8576b"
                          ],
                          [
                            0.6666666666666666,
                            "#ed7953"
                          ],
                          [
                            0.7777777777777778,
                            "#fb9f3a"
                          ],
                          [
                            0.8888888888888888,
                            "#fdca26"
                          ],
                          [
                            1,
                            "#f0f921"
                          ]
                        ],
                        "type": "heatmapgl"
                      }
                    ],
                    "histogram": [
                      {
                        "marker": {
                          "colorbar": {
                            "outlinewidth": 0,
                            "ticks": ""
                          }
                        },
                        "type": "histogram"
                      }
                    ],
                    "histogram2d": [
                      {
                        "colorbar": {
                          "outlinewidth": 0,
                          "ticks": ""
                        },
                        "colorscale": [
                          [
                            0,
                            "#0d0887"
                          ],
                          [
                            0.1111111111111111,
                            "#46039f"
                          ],
                          [
                            0.2222222222222222,
                            "#7201a8"
                          ],
                          [
                            0.3333333333333333,
                            "#9c179e"
                          ],
                          [
                            0.4444444444444444,
                            "#bd3786"
                          ],
                          [
                            0.5555555555555556,
                            "#d8576b"
                          ],
                          [
                            0.6666666666666666,
                            "#ed7953"
                          ],
                          [
                            0.7777777777777778,
                            "#fb9f3a"
                          ],
                          [
                            0.8888888888888888,
                            "#fdca26"
                          ],
                          [
                            1,
                            "#f0f921"
                          ]
                        ],
                        "type": "histogram2d"
                      }
                    ],
                    "histogram2dcontour": [
                      {
                        "colorbar": {
                          "outlinewidth": 0,
                          "ticks": ""
                        },
                        "colorscale": [
                          [
                            0,
                            "#0d0887"
                          ],
                          [
                            0.1111111111111111,
                            "#46039f"
                          ],
                          [
                            0.2222222222222222,
                            "#7201a8"
                          ],
                          [
                            0.3333333333333333,
                            "#9c179e"
                          ],
                          [
                            0.4444444444444444,
                            "#bd3786"
                          ],
                          [
                            0.5555555555555556,
                            "#d8576b"
                          ],
                          [
                            0.6666666666666666,
                            "#ed7953"
                          ],
                          [
                            0.7777777777777778,
                            "#fb9f3a"
                          ],
                          [
                            0.8888888888888888,
                            "#fdca26"
                          ],
                          [
                            1,
                            "#f0f921"
                          ]
                        ],
                        "type": "histogram2dcontour"
                      }
                    ],
                    "mesh3d": [
                      {
                        "colorbar": {
                          "outlinewidth": 0,
                          "ticks": ""
                        },
                        "type": "mesh3d"
                      }
                    ],
                    "parcoords": [
                      {
                        "line": {
                          "colorbar": {
                            "outlinewidth": 0,
                            "ticks": ""
                          }
                        },
                        "type": "parcoords"
                      }
                    ],
                    "scatter": [
                      {
                        "marker": {
                          "colorbar": {
                            "outlinewidth": 0,
                            "ticks": ""
                          }
                        },
                        "type": "scatter"
                      }
                    ],
                    "scatter3d": [
                      {
                        "line": {
                          "colorbar": {
                            "outlinewidth": 0,
                            "ticks": ""
                          }
                        },
                        "marker": {
                          "colorbar": {
                            "outlinewidth": 0,
                            "ticks": ""
                          }
                        },
                        "type": "scatter3d"
                      }
                    ],
                    "scattercarpet": [
                      {
                        "marker": {
                          "colorbar": {
                            "outlinewidth": 0,
                            "ticks": ""
                          }
                        },
                        "type": "scattercarpet"
                      }
                    ],
                    "scattergeo": [
                      {
                        "marker": {
                          "colorbar": {
                            "outlinewidth": 0,
                            "ticks": ""
                          }
                        },
                        "type": "scattergeo"
                      }
                    ],
                    "scattergl": [
                      {
                        "marker": {
                          "colorbar": {
                            "outlinewidth": 0,
                            "ticks": ""
                          }
                        },
                        "type": "scattergl"
                      }
                    ],
                    "scattermapbox": [
                      {
                        "marker": {
                          "colorbar": {
                            "outlinewidth": 0,
                            "ticks": ""
                          }
                        },
                        "type": "scattermapbox"
                      }
                    ],
                    "scatterpolar": [
                      {
                        "marker": {
                          "colorbar": {
                            "outlinewidth": 0,
                            "ticks": ""
                          }
                        },
                        "type": "scatterpolar"
                      }
                    ],
                    "scatterpolargl": [
                      {
                        "marker": {
                          "colorbar": {
                            "outlinewidth": 0,
                            "ticks": ""
                          }
                        },
                        "type": "scatterpolargl"
                      }
                    ],
                    "scatterternary": [
                      {
                        "marker": {
                          "colorbar": {
                            "outlinewidth": 0,
                            "ticks": ""
                          }
                        },
                        "type": "scatterternary"
                      }
                    ],
                    "surface": [
                      {
                        "colorbar": {
                          "outlinewidth": 0,
                          "ticks": ""
                        },
                        "colorscale": [
                          [
                            0,
                            "#0d0887"
                          ],
                          [
                            0.1111111111111111,
                            "#46039f"
                          ],
                          [
                            0.2222222222222222,
                            "#7201a8"
                          ],
                          [
                            0.3333333333333333,
                            "#9c179e"
                          ],
                          [
                            0.4444444444444444,
                            "#bd3786"
                          ],
                          [
                            0.5555555555555556,
                            "#d8576b"
                          ],
                          [
                            0.6666666666666666,
                            "#ed7953"
                          ],
                          [
                            0.7777777777777778,
                            "#fb9f3a"
                          ],
                          [
                            0.8888888888888888,
                            "#fdca26"
                          ],
                          [
                            1,
                            "#f0f921"
                          ]
                        ],
                        "type": "surface"
                      }
                    ],
                    "table": [
                      {
                        "cells": {
                          "fill": {
                            "color": "#EBF0F8"
                          },
                          "line": {
                            "color": "white"
                          }
                        },
                        "header": {
                          "fill": {
                            "color": "#C8D4E3"
                          },
                          "line": {
                            "color": "white"
                          }
                        },
                        "type": "table"
                      }
                    ]
                  },
                  "layout": {
                    "annotationdefaults": {
                      "arrowcolor": "#2a3f5f",
                      "arrowhead": 0,
                      "arrowwidth": 1
                    },
                    "colorscale": {
                      "diverging": [
                        [
                          0,
                          "#8e0152"
                        ],
                        [
                          0.1,
                          "#c51b7d"
                        ],
                        [
                          0.2,
                          "#de77ae"
                        ],
                        [
                          0.3,
                          "#f1b6da"
                        ],
                        [
                          0.4,
                          "#fde0ef"
                        ],
                        [
                          0.5,
                          "#f7f7f7"
                        ],
                        [
                          0.6,
                          "#e6f5d0"
                        ],
                        [
                          0.7,
                          "#b8e186"
                        ],
                        [
                          0.8,
                          "#7fbc41"
                        ],
                        [
                          0.9,
                          "#4d9221"
                        ],
                        [
                          1,
                          "#276419"
                        ]
                      ],
                      "sequential": [
                        [
                          0,
                          "#0d0887"
                        ],
                        [
                          0.1111111111111111,
                          "#46039f"
                        ],
                        [
                          0.2222222222222222,
                          "#7201a8"
                        ],
                        [
                          0.3333333333333333,
                          "#9c179e"
                        ],
                        [
                          0.4444444444444444,
                          "#bd3786"
                        ],
                        [
                          0.5555555555555556,
                          "#d8576b"
                        ],
                        [
                          0.6666666666666666,
                          "#ed7953"
                        ],
                        [
                          0.7777777777777778,
                          "#fb9f3a"
                        ],
                        [
                          0.8888888888888888,
                          "#fdca26"
                        ],
                        [
                          1,
                          "#f0f921"
                        ]
                      ],
                      "sequentialminus": [
                        [
                          0,
                          "#0d0887"
                        ],
                        [
                          0.1111111111111111,
                          "#46039f"
                        ],
                        [
                          0.2222222222222222,
                          "#7201a8"
                        ],
                        [
                          0.3333333333333333,
                          "#9c179e"
                        ],
                        [
                          0.4444444444444444,
                          "#bd3786"
                        ],
                        [
                          0.5555555555555556,
                          "#d8576b"
                        ],
                        [
                          0.6666666666666666,
                          "#ed7953"
                        ],
                        [
                          0.7777777777777778,
                          "#fb9f3a"
                        ],
                        [
                          0.8888888888888888,
                          "#fdca26"
                        ],
                        [
                          1,
                          "#f0f921"
                        ]
                      ]
                    },
                    "colorway": [
                      "#636efa",
                      "#EF553B",
                      "#00cc96",
                      "#ab63fa",
                      "#FFA15A",
                      "#19d3f3",
                      "#FF6692",
                      "#B6E880",
                      "#FF97FF",
                      "#FECB52"
                    ],
                    "font": {
                      "color": "#2a3f5f"
                    },
                    "geo": {
                      "bgcolor": "white",
                      "lakecolor": "white",
                      "landcolor": "#E5ECF6",
                      "showlakes": true,
                      "showland": true,
                      "subunitcolor": "white"
                    },
                    "hoverlabel": {
                      "align": "left"
                    },
                    "hovermode": "closest",
                    "mapbox": {
                      "style": "light"
                    },
                    "paper_bgcolor": "white",
                    "plot_bgcolor": "#E5ECF6",
                    "polar": {
                      "angularaxis": {
                        "gridcolor": "white",
                        "linecolor": "white",
                        "ticks": ""
                      },
                      "bgcolor": "#E5ECF6",
                      "radialaxis": {
                        "gridcolor": "white",
                        "linecolor": "white",
                        "ticks": ""
                      }
                    },
                    "scene": {
                      "xaxis": {
                        "backgroundcolor": "#E5ECF6",
                        "gridcolor": "white",
                        "gridwidth": 2,
                        "linecolor": "white",
                        "showbackground": true,
                        "ticks": "",
                        "zerolinecolor": "white"
                      },
                      "yaxis": {
                        "backgroundcolor": "#E5ECF6",
                        "gridcolor": "white",
                        "gridwidth": 2,
                        "linecolor": "white",
                        "showbackground": true,
                        "ticks": "",
                        "zerolinecolor": "white"
                      },
                      "zaxis": {
                        "backgroundcolor": "#E5ECF6",
                        "gridcolor": "white",
                        "gridwidth": 2,
                        "linecolor": "white",
                        "showbackground": true,
                        "ticks": "",
                        "zerolinecolor": "white"
                      }
                    },
                    "shapedefaults": {
                      "line": {
                        "color": "#2a3f5f"
                      }
                    },
                    "ternary": {
                      "aaxis": {
                        "gridcolor": "white",
                        "linecolor": "white",
                        "ticks": ""
                      },
                      "baxis": {
                        "gridcolor": "white",
                        "linecolor": "white",
                        "ticks": ""
                      },
                      "bgcolor": "#E5ECF6",
                      "caxis": {
                        "gridcolor": "white",
                        "linecolor": "white",
                        "ticks": ""
                      }
                    },
                    "title": {
                      "x": 0.05
                    },
                    "xaxis": {
                      "automargin": true,
                      "gridcolor": "white",
                      "linecolor": "white",
                      "ticks": "",
                      "zerolinecolor": "white",
                      "zerolinewidth": 2
                    },
                    "yaxis": {
                      "automargin": true,
                      "gridcolor": "white",
                      "linecolor": "white",
                      "ticks": "",
                      "zerolinecolor": "white",
                      "zerolinewidth": 2
                    }
                  }
                },
                "title": {
                  "text": "Hyperparameter Importances"
                },
                "xaxis": {
                  "title": {
                    "text": "Importance for flops"
                  }
                },
                "yaxis": {
                  "title": {
                    "text": "Hyperparameter"
                  }
                }
              }
            }
          },
          "metadata": {},
          "output_type": "display_data"
        }
      ],
      "source": [
        "optuna.visualization.plot_param_importances(\n",
        "    study, target=lambda t: t.values[0], target_name=\"flops\"\n",
        ")"
      ]
    },
    {
      "cell_type": "code",
      "execution_count": null,
      "metadata": {},
      "outputs": [],
      "source": []
    }
  ],
  "metadata": {
    "kernelspec": {
      "display_name": "Python 3",
      "language": "python",
      "name": "python3"
    },
    "language_info": {
      "codemirror_mode": {
        "name": "ipython",
        "version": 3
      },
      "file_extension": ".py",
      "mimetype": "text/x-python",
      "name": "python",
      "nbconvert_exporter": "python",
      "pygments_lexer": "ipython3",
      "version": "3.8.8"
    }
  },
  "nbformat": 4,
  "nbformat_minor": 0
}
