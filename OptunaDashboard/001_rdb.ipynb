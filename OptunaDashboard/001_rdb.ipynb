{
  "cells": [
    {
      "cell_type": "markdown",
      "metadata": {},
      "source": [
        "\n",
        "\n",
        "# Saving/Resuming Study with RDB Backend\n",
        "\n",
        "An RDB backend enables persistent experiments (i.e., to save and resume a study) as well as access to history of studies.\n",
        "In addition, we can run multi-node optimization tasks with this feature, which is described in `distributed`.\n",
        "\n",
        "In this section, let's try simple examples running on a local environment with SQLite DB.\n",
        "\n",
        "<div class=\"alert alert-info\"><h4>Note</h4><p>You can also utilize other RDB backends, e.g., PostgreSQL or MySQL, by setting the storage argument to the DB's URL.\n",
        "    Please refer to [SQLAlchemy's document](https://docs.sqlalchemy.org/en/latest/core/engines.html#database-urls) for how to set up the URL.</p></div>\n",
        "\n",
        "\n",
        "## New Study\n",
        "\n",
        "We can create a persistent study by calling :func:`~optuna.study.create_study` function as follows.\n",
        "An SQLite file ``example.db`` is automatically initialized with a new study record.\n"
      ]
    },
    {
      "cell_type": "code",
      "execution_count": 1,
      "metadata": {
        "collapsed": false
      },
      "outputs": [
        {
          "name": "stderr",
          "output_type": "stream",
          "text": [
            "[I 2023-08-08 15:11:02,874] A new study created in RDB with name: example-study\n"
          ]
        },
        {
          "name": "stdout",
          "output_type": "stream",
          "text": [
            "A new study created in RDB with name: example-study\n"
          ]
        }
      ],
      "source": [
        "import logging\n",
        "import sys\n",
        "\n",
        "import optuna\n",
        "\n",
        "# Add stream handler of stdout to show the messages\n",
        "optuna.logging.get_logger(\"optuna\").addHandler(logging.StreamHandler(sys.stdout))\n",
        "study_name = \"example-study\"  # Unique identifier of the study.\n",
        "storage_name = \"sqlite:///{}.db\".format(study_name)\n",
        "study = optuna.create_study(study_name=study_name, storage=storage_name)"
      ]
    },
    {
      "cell_type": "markdown",
      "metadata": {},
      "source": [
        "To run a study, call :func:`~optuna.study.Study.optimize` method passing an objective function.\n",
        "\n"
      ]
    },
    {
      "cell_type": "code",
      "execution_count": 2,
      "metadata": {
        "collapsed": false
      },
      "outputs": [
        {
          "name": "stderr",
          "output_type": "stream",
          "text": [
            "[I 2023-08-08 15:11:04,102] Trial 0 finished with value: 55.041430977846915 and parameters: {'x': -5.418991237213245}. Best is trial 0 with value: 55.041430977846915.\n"
          ]
        },
        {
          "name": "stdout",
          "output_type": "stream",
          "text": [
            "Trial 0 finished with value: 55.041430977846915 and parameters: {'x': -5.418991237213245}. Best is trial 0 with value: 55.041430977846915.\n"
          ]
        },
        {
          "name": "stderr",
          "output_type": "stream",
          "text": [
            "[I 2023-08-08 15:11:04,185] Trial 1 finished with value: 1.2260697767496562 and parameters: {'x': 0.8927196485308446}. Best is trial 1 with value: 1.2260697767496562.\n"
          ]
        },
        {
          "name": "stdout",
          "output_type": "stream",
          "text": [
            "Trial 1 finished with value: 1.2260697767496562 and parameters: {'x': 0.8927196485308446}. Best is trial 1 with value: 1.2260697767496562.\n"
          ]
        },
        {
          "name": "stderr",
          "output_type": "stream",
          "text": [
            "[I 2023-08-08 15:11:04,278] Trial 2 finished with value: 23.543922041302594 and parameters: {'x': 6.8522079552820685}. Best is trial 1 with value: 1.2260697767496562.\n"
          ]
        },
        {
          "name": "stdout",
          "output_type": "stream",
          "text": [
            "Trial 2 finished with value: 23.543922041302594 and parameters: {'x': 6.8522079552820685}. Best is trial 1 with value: 1.2260697767496562.\n"
          ]
        }
      ],
      "source": [
        "def objective(trial):\n",
        "    x = trial.suggest_float(\"x\", -10, 10)\n",
        "    return (x - 2) ** 2\n",
        "\n",
        "\n",
        "study.optimize(objective, n_trials=3)"
      ]
    },
    {
      "cell_type": "markdown",
      "metadata": {},
      "source": [
        "## Resume Study\n",
        "\n",
        "To resume a study, instantiate a :class:`~optuna.study.Study` object\n",
        "passing the study name ``example-study`` and the DB URL ``sqlite:///example-study.db``.\n",
        "\n"
      ]
    },
    {
      "cell_type": "code",
      "execution_count": 3,
      "metadata": {
        "collapsed": false
      },
      "outputs": [
        {
          "name": "stderr",
          "output_type": "stream",
          "text": [
            "[I 2023-08-08 15:11:10,278] Using an existing study with name 'example-study' instead of creating a new one.\n"
          ]
        },
        {
          "name": "stdout",
          "output_type": "stream",
          "text": [
            "Using an existing study with name 'example-study' instead of creating a new one.\n"
          ]
        },
        {
          "name": "stderr",
          "output_type": "stream",
          "text": [
            "[I 2023-08-08 15:11:10,497] Trial 3 finished with value: 2.7101006945602473 and parameters: {'x': 0.35376165317404684}. Best is trial 1 with value: 1.2260697767496562.\n"
          ]
        },
        {
          "name": "stdout",
          "output_type": "stream",
          "text": [
            "Trial 3 finished with value: 2.7101006945602473 and parameters: {'x': 0.35376165317404684}. Best is trial 1 with value: 1.2260697767496562.\n"
          ]
        },
        {
          "name": "stderr",
          "output_type": "stream",
          "text": [
            "[I 2023-08-08 15:11:10,617] Trial 4 finished with value: 6.2528332784699785 and parameters: {'x': -0.5005665914888127}. Best is trial 1 with value: 1.2260697767496562.\n"
          ]
        },
        {
          "name": "stdout",
          "output_type": "stream",
          "text": [
            "Trial 4 finished with value: 6.2528332784699785 and parameters: {'x': -0.5005665914888127}. Best is trial 1 with value: 1.2260697767496562.\n"
          ]
        },
        {
          "name": "stderr",
          "output_type": "stream",
          "text": [
            "[I 2023-08-08 15:11:10,744] Trial 5 finished with value: 1.8854102177498848 and parameters: {'x': 0.6268975938591161}. Best is trial 1 with value: 1.2260697767496562.\n"
          ]
        },
        {
          "name": "stdout",
          "output_type": "stream",
          "text": [
            "Trial 5 finished with value: 1.8854102177498848 and parameters: {'x': 0.6268975938591161}. Best is trial 1 with value: 1.2260697767496562.\n"
          ]
        }
      ],
      "source": [
        "study = optuna.create_study(study_name=study_name, storage=storage_name, load_if_exists=True)\n",
        "study.optimize(objective, n_trials=3)"
      ]
    },
    {
      "cell_type": "markdown",
      "metadata": {},
      "source": [
        "Note that the storage doesn't store the state of the instance of :mod:`~optuna.samplers`.\n",
        "When we resume a study with a sampler whose ``seed`` argument is specified for\n",
        "reproducibility, you need to restore the sampler with using ``pickle`` as follows::\n",
        "\n",
        "    import pickle\n",
        "\n",
        "    # Save the sampler with pickle to be loaded later.\n",
        "    with open(\"sampler.pkl\", \"wb\") as fout:\n",
        "        pickle.dump(study.sampler, fout)\n",
        "\n",
        "    restored_sampler = pickle.load(open(\"sampler.pkl\", \"rb\"))\n",
        "    study = optuna.create_study(\n",
        "        study_name=study_name, storage=storage_name, load_if_exists=True, sampler=restored_sampler\n",
        "    )\n",
        "    study.optimize(objective, n_trials=3)\n",
        "\n",
        "\n"
      ]
    },
    {
      "cell_type": "markdown",
      "metadata": {},
      "source": [
        "## Experimental History\n",
        "\n",
        "We can access histories of studies and trials via the :class:`~optuna.study.Study` class.\n",
        "For example, we can get all trials of ``example-study`` as:\n",
        "\n"
      ]
    },
    {
      "cell_type": "code",
      "execution_count": 4,
      "metadata": {
        "collapsed": false
      },
      "outputs": [
        {
          "name": "stderr",
          "output_type": "stream",
          "text": [
            "[I 2023-08-08 15:11:15,076] Using an existing study with name 'example-study' instead of creating a new one.\n"
          ]
        },
        {
          "name": "stdout",
          "output_type": "stream",
          "text": [
            "Using an existing study with name 'example-study' instead of creating a new one.\n"
          ]
        }
      ],
      "source": [
        "study = optuna.create_study(study_name=study_name, storage=storage_name, load_if_exists=True)\n",
        "df = study.trials_dataframe(attrs=(\"number\", \"value\", \"params\", \"state\"))"
      ]
    },
    {
      "cell_type": "markdown",
      "metadata": {},
      "source": [
        "The method :func:`~optuna.study.Study.trials_dataframe` returns a pandas dataframe like:\n",
        "\n"
      ]
    },
    {
      "cell_type": "code",
      "execution_count": 5,
      "metadata": {
        "collapsed": false
      },
      "outputs": [
        {
          "name": "stdout",
          "output_type": "stream",
          "text": [
            "   number      value  params_x     state\n",
            "0       0  55.041431 -5.418991  COMPLETE\n",
            "1       1   1.226070  0.892720  COMPLETE\n",
            "2       2  23.543922  6.852208  COMPLETE\n",
            "3       3   2.710101  0.353762  COMPLETE\n",
            "4       4   6.252833 -0.500567  COMPLETE\n",
            "5       5   1.885410  0.626898  COMPLETE\n"
          ]
        }
      ],
      "source": [
        "print(df)"
      ]
    },
    {
      "cell_type": "markdown",
      "metadata": {},
      "source": [
        "A :class:`~optuna.study.Study` object also provides properties\n",
        "such as :attr:`~optuna.study.Study.trials`, :attr:`~optuna.study.Study.best_value`,\n",
        ":attr:`~optuna.study.Study.best_params` (see also `first`).\n",
        "\n"
      ]
    },
    {
      "cell_type": "code",
      "execution_count": null,
      "metadata": {
        "collapsed": false
      },
      "outputs": [],
      "source": [
        "print(\"Best params: \", study.best_params)\n",
        "print(\"Best value: \", study.best_value)\n",
        "print(\"Best Trial: \", study.best_trial)\n",
        "print(\"Trials: \", study.trials)"
      ]
    }
  ],
  "metadata": {
    "kernelspec": {
      "display_name": "Python 3",
      "language": "python",
      "name": "python3"
    },
    "language_info": {
      "codemirror_mode": {
        "name": "ipython",
        "version": 3
      },
      "file_extension": ".py",
      "mimetype": "text/x-python",
      "name": "python",
      "nbconvert_exporter": "python",
      "pygments_lexer": "ipython3",
      "version": "3.8.8"
    }
  },
  "nbformat": 4,
  "nbformat_minor": 0
}
